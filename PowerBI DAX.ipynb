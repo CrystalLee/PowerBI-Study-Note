{
 "cells": [
  {
   "cell_type": "markdown",
   "metadata": {},
   "source": [
    "# PowerBI"
   ]
  },
  {
   "cell_type": "markdown",
   "metadata": {},
   "source": [
    "## How to Show Last Refresh Date in Power BI\n",
    "Step 1: Open the Power BI desktop, Under the **Home** ribbon, click on the **Get data** for Common data sources option and select **Blank query**\n",
    "\n",
    "Step 2: Once you have Blank Query table Query1 in place under the Queries section, right-click on it and rename it to **Last Refreshed**\n",
    "\n",
    "Step 3: Afterward, go to the formula bar, write below the M query, and press enter.\n",
    "```sql\n",
    "= DateTime.LocalNow()\n",
    "```"
   ]
  },
  {
   "cell_type": "markdown",
   "metadata": {},
   "source": [
    "## How to Custom Date Period Selections in Power BI\n",
    "\n",
    "\n",
    "Reference : \n",
    "    - https://www.youtube.com/watch?v=fKygF7VEJnQ\n",
    "    - https://www.linkedin.com/pulse/custom-range-date-slicer-power-bi-dynamic-defaults-more-a%C5%9F%C4%B1ro%C4%9Flu"
   ]
  },
  {
   "cell_type": "markdown",
   "metadata": {},
   "source": [
    "1. Create a dataset called **dim_date** with unique date range only \n",
    "\n",
    "```pyhton\n",
    "dim_date = DISTINCT( CALENDAR( MIN( datamart_name [REPORT_TIME] ), MAX( datamart_name[REPORT_TIME] ) ))\n",
    "```\n",
    "\n",
    "and change the Date column data type to Date\n"
   ]
  },
  {
   "cell_type": "markdown",
   "metadata": {},
   "source": [
    "2. Create a new table called **date_slicer**\n",
    "\n",
    "```java\n",
    "date_filter = \n",
    "VAR _today = TODAY()\n",
    "VAR _thisweekstart = TODAY() - WEEKDAY(TODAY(),2) + 1\n",
    "VAR _lastweekstart = TODAY() - WEEKDAY(TODAY(),2) - 6\n",
    "VAR _mtd = DATESMTD( _dim_date[Date] )\n",
    "VAR _qtd = DATESQTD( _dim_date[Date] )\n",
    "VAR _ytd = DATESYTD( _dim_date[Date] )\n",
    "VAR _all = CALENDAR( MIN(_dim_date[Date] ), MAX(_dim_date[Date]) ) \n",
    "\n",
    "\n",
    "RETURN \n",
    "    UNION(\n",
    "        ADDCOLUMNS( FILTER( _dim_date, [Date] >= _thisweekstart ), \"Period\", \"This Week\", \"Order\", 0),\n",
    "        ADDCOLUMNS( FILTER( _dim_date, AND([Date]>= _lastweekstart, [Date]< _thisweekstart)), \"Period\", \"Last Week\", \"Order\",1),\n",
    "        ADDCOLUMNS( _mtd, \"Period\", \"Month to Date\", \"Order\", 2),\n",
    "        ADDCOLUMNS( PREVIOUSMONTH( _mtd), \"Period\", \"Last Month\", \"Order\",3),\n",
    "        ADDCOLUMNS( _qtd, \"Period\", \"Quarter to Date\", \"Order\", 4),\n",
    "        ADDCOLUMNS( PREVIOUSQUARTER( _qtd), \"Period\", \"Last Quarter\", \"Order\", 5),\n",
    "        ADDCOLUMNS( _ytd, \"Period\", \"Year to Date\", \"Order\", 6),\n",
    "        ADDCOLUMNS( _all, \"Period\", \"Custom Range\", \"Order\", 7)\n",
    "        )\n",
    "```"
   ]
  },
  {
   "cell_type": "markdown",
   "metadata": {},
   "source": [
    "# How to create group by day/week/month\n",
    "\n",
    "create few new metrics in the datamart or fact table datasource\n",
    "\n",
    "```JAVA\n",
    "_week_number = \n",
    "    IF(\n",
    "        WEEKNUM(FACT_GSC_PAGE[tx_date], 2) = 53, \n",
    "        1, \n",
    "        WEEKNUM(FACT_GSC_PAGE[tx_date],2)\n",
    "    )\n",
    "\n",
    "    \n",
    "_week_year = \n",
    "    IF(\n",
    "        AND(FACT_GSC_PAGE[_week_number] = 1, MONTH(FACT_GSC_PAGE[tx_date]) = 12),\n",
    "        YEAR(FACT_GSC_PAGE[tx_date]) + 1,\n",
    "        YEAR(FACT_GSC_PAGE[tx_date])\n",
    "    )\n",
    "    \n",
    "    \n",
    "_report_week = \n",
    "    CALCULATE (\n",
    "        MIN ( FACT_GSC_PAGE[tx_date] ),\n",
    "        ALLEXCEPT ( FACT_GSC_PAGE, FACT_GSC_PAGE[_week_number], FACT_GSC_PAGE[_week_year] )\n",
    "    )  \n",
    "    \n",
    "_report_month = FORMAT(FACT_GSC_PAGE[tx_date], \"yyyy-mm-01\")\n",
    "```"
   ]
  },
  {
   "cell_type": "markdown",
   "metadata": {},
   "source": [
    "3. create a New Measure in the created dim_date table \n",
    "\n",
    "```python \n",
    "date_slicer_filter = \n",
    "IF( \n",
    "    SELECTEDVALUE(date_filter[Period]) = \"Custom Range\",\n",
    "    1, \n",
    "    0 \n",
    "    )\n",
    "```"
   ]
  },
  {
   "cell_type": "markdown",
   "metadata": {},
   "source": [
    "4. You must set up the relationships between **date_filter** & **dim_date**\n",
    "\n",
    "    - Cardinality : Many to 1 \n",
    "    - Cross Filter Direction : **Both**"
   ]
  },
  {
   "cell_type": "markdown",
   "metadata": {},
   "source": [
    "## How to get the max value of a group of measure \n",
    "\n",
    "https://datacaffee.com/sql-equivalent-power-bi-dax-functions-part-2/#:~:text=First_value,group%20or%20within%20the%20group.\n",
    "\n",
    "```sql \n",
    "_round_settle_status = \n",
    "        CALCULATE( MAXX(table_name, [column_name]), ALLEXCEPT( table_name , table_name[dim_col_1] , table_name[dim_col_2]))\n",
    "\n",
    "```"
   ]
  },
  {
   "cell_type": "markdown",
   "metadata": {},
   "source": [
    "```sql\n",
    "validate_cash = \n",
    "\n",
    "VAR _change = \n",
    "        CALCULATE(  \n",
    "            'ALL MEASURES'[_balance_change_cash] ,\n",
    "            DIM_CHECKS, DIM_CHECKS[SECTION] = \"BALANCE CHANGE\",\n",
    "            DIM_CHECKS, DIM_CHECKS[SECTION] <> \"RECONCILIATION CHECK\"\n",
    "            ) \n",
    "\n",
    "VAR _recon = \n",
    "        CALCULATE(  \n",
    "            'ALL MEASURES'[_recon_check_cash],\n",
    "            DIM_CHECKS, DIM_CHECKS[SECTION] = \"RECONCILIATION CHECK\",\n",
    "            DIM_CHECKS, DIM_CHECKS[SECTION] <> \"BALANCE CHANGE\"\n",
    "            ) \n",
    "\n",
    "RETURN \n",
    "    _change \n",
    "```"
   ]
  },
  {
   "cell_type": "markdown",
   "metadata": {},
   "source": [
    "```sql\n",
    "\n",
    "_color_label = \n",
    "\n",
    "    VAR _opening = SELECTEDVALUE(_dim_sections[SECTION], \"OPENING BALANCE\") \n",
    "    VAR _if_opending = IF( _opening = \"OPENING BALANCE\", 1, 0)\n",
    "\n",
    "    RETURN \n",
    "        \"<b>\" & _if_opending &\"</b>\"\n",
    "\n",
    "```"
   ]
  },
  {
   "cell_type": "markdown",
   "metadata": {},
   "source": [
    "```sql\n",
    "__Total Budget EST2 Monthly = \n",
    "SWITCH(TRUE();\n",
    "[Selected currency]=\"EUR\"; FORMAT([_Total Budget EST2M]/VALUES('Currency'[Currency Rate]);\"€ 0,00\");\n",
    "[Selected currency]=\"USD\"; FORMAT([_Total Budget EST2M]/VALUES('Currency'[Currency Rate]);\"U$ 0,00\");\n",
    "[Selected currency]=\"DKK\"; FORMAT([_Total Budget EST2M]/VALUES('Currency'[Currency Rate]);\"0,00 kr\");\n",
    "[Selected currency]=\"BRL\"; FORMAT([_Total Budget EST2M]/VALUES('Currency'[Currency Rate]);\"R$ 0,00\");\n",
    "[Selected currency]=\"CAD\"; FORMAT([_Total Budget EST2M]/VALUES('Currency'[Currency Rate]);\"C$ 0,00\");\n",
    "[Selected currency]=\"CHF\"; FORMAT([_Total Budget EST2M]/VALUES('Currency'[Currency Rate]);\"0,00 fr\");\n",
    "[Selected currency]=\"GBP\"; FORMAT([_Total Budget EST2M]/VALUES('Currency'[Currency Rate]);\"£ 0,00\");\n",
    "[Selected currency]=\"AUD\"; FORMAT([_Total Budget EST2M]/VALUES('Currency'[Currency Rate]);\"A$ 0,00\");\n",
    "FORMAT([_Total Budget 2019M];\"R$ 0,00\"));FORMAT([_Total Budget EST2M];\"R$ 0,00\"))\n",
    "```"
   ]
  },
  {
   "cell_type": "markdown",
   "metadata": {},
   "source": [
    "# How to Text formatting with DAX ( Bold)\n",
    "\n",
    "- https://bestinbi.es/en/blog/text-formatting-with-dax/ \n",
    "- https://yaytext.com/\n",
    "- https://unicodelookup.com/\n",
    "\n",
    "```sql \n",
    "_calculated_Cash = \n",
    "    VAR _others =  \n",
    "        CALCULATE(  \n",
    "            [cash],\n",
    "            DM_BALANCE_ACTIVITY_PER_HOUR[METRIC_LVL] = 2\n",
    "        )\n",
    "    VAR _opening = [Opening Cash]\n",
    "    VAR _closing = [Closing Cash]\n",
    "    VAR _total_value = _others + _opening + _closing\n",
    "\n",
    "    VAR _section_name = SELECTEDVALUE( _dim_sections[SECTION])\n",
    "\n",
    "    VAR _cash_text = FIXED( _total_value, 2)\n",
    "    VAR _bold_0 = SUBSTITUTE(_cash_text, \"0\" ,UNICHAR(120782))\n",
    "    VAR _bold_1 = SUBSTITUTE(_bold_0, \"1\" ,UNICHAR(120783))\n",
    "    VAR _bold_2 = SUBSTITUTE(_bold_1, \"2\" ,UNICHAR(120784))\n",
    "    VAR _bold_3 = SUBSTITUTE(_bold_2, \"3\" ,UNICHAR(120785))\n",
    "    VAR _bold_4 = SUBSTITUTE(_bold_3, \"4\" ,UNICHAR(120786))\n",
    "    VAR _bold_5 = SUBSTITUTE(_bold_4, \"5\" ,UNICHAR(120787))\n",
    "    VAR _bold_6 = SUBSTITUTE(_bold_5, \"6\" ,UNICHAR(120788))\n",
    "    VAR _bold_7 = SUBSTITUTE(_bold_6, \"7\" ,UNICHAR(120789))\n",
    "    VAR _bold_8 = SUBSTITUTE(_bold_7, \"8\" ,UNICHAR(120790))\n",
    "    VAR _bold_9 = SUBSTITUTE(_bold_8, \"9\" ,UNICHAR(120791))\n",
    "    VAR _bold_comma = SUBSTITUTE(_bold_9, \",\" ,UNICHAR(44))\n",
    "    VAR _bold_stop = SUBSTITUTE(_bold_comma, \".\" ,UNICHAR(46))\n",
    "    \n",
    "\n",
    "RETURN \n",
    "    SWITCH(\n",
    "        TRUE(),\n",
    "        _section_name = \"OPENING BALANCE\", _bold_9,\n",
    "        _section_name = \"CLOSING BALANCE\", _bold_9,\n",
    "        _section_name <> \"OPENING BALANCE\", _total_value\n",
    "    )\n",
    "\n",
    "\n",
    "```"
   ]
  },
  {
   "cell_type": "markdown",
   "metadata": {},
   "source": [
    "# SWITCH feature\n",
    "https://www.enjoysharepoint.com/power-bi-measure-switch/"
   ]
  },
  {
   "cell_type": "code",
   "execution_count": null,
   "metadata": {},
   "outputs": [],
   "source": []
  }
 ],
 "metadata": {
  "kernelspec": {
   "display_name": "Python 3",
   "language": "python",
   "name": "python3"
  },
  "language_info": {
   "codemirror_mode": {
    "name": "ipython",
    "version": 3
   },
   "file_extension": ".py",
   "mimetype": "text/x-python",
   "name": "python",
   "nbconvert_exporter": "python",
   "pygments_lexer": "ipython3",
   "version": "3.6.8"
  }
 },
 "nbformat": 4,
 "nbformat_minor": 2
}
